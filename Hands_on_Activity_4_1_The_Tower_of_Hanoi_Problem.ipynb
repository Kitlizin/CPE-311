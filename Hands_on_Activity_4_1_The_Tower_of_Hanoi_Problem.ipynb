{
  "nbformat": 4,
  "nbformat_minor": 0,
  "metadata": {
    "colab": {
      "provenance": [],
      "authorship_tag": "ABX9TyPXJY/O7vD3GKuhfHQTDsCN",
      "include_colab_link": true
    },
    "kernelspec": {
      "name": "python3",
      "display_name": "Python 3"
    },
    "language_info": {
      "name": "python"
    }
  },
  "cells": [
    {
      "cell_type": "markdown",
      "metadata": {
        "id": "view-in-github",
        "colab_type": "text"
      },
      "source": [
        "<a href=\"https://colab.research.google.com/github/Kitlizin/CPE-311/blob/main/Hands_on_Activity_4_1_The_Tower_of_Hanoi_Problem.ipynb\" target=\"_parent\"><img src=\"https://colab.research.google.com/assets/colab-badge.svg\" alt=\"Open In Colab\"/></a>"
      ]
    },
    {
      "cell_type": "code",
      "execution_count": 18,
      "metadata": {
        "colab": {
          "base_uri": "https://localhost:8080/"
        },
        "id": "T8k7ny1fG13W",
        "outputId": "2c0a801c-06c2-4ac9-d719-b104a20d7117"
      },
      "outputs": [
        {
          "output_type": "stream",
          "name": "stdout",
          "text": [
            "Enter the number of disks: 4\n",
            "Move disk 1 from source A to destination C\n",
            "Move disk 2 from source A to destination B\n",
            "Move disk 1 from source C to destination B\n",
            "Move disk 3 from source A to destination C\n",
            "Move disk 1 from source B to destination A\n",
            "Move disk 2 from source B to destination C\n",
            "Move disk 1 from source A to destination C\n",
            "Move disk 4 from source A to destination B\n",
            "Move disk 1 from source C to destination B\n",
            "Move disk 2 from source C to destination A\n",
            "Move disk 1 from source B to destination A\n",
            "Move disk 3 from source C to destination B\n",
            "Move disk 1 from source A to destination C\n",
            "Move disk 2 from source A to destination B\n",
            "Move disk 1 from source C to destination B\n"
          ]
        }
      ],
      "source": [
        "def read_moves(n, sp, dp, ap):\n",
        "    if n==1:\n",
        "        print (\"Move disk 1 from source\",sp,\"to destination\",dp)\n",
        "        return\n",
        "    read_moves(n-1, sp, ap, dp)\n",
        "    print (\"Move disk\",n,\"from source\",sp,\"to destination\",dp)\n",
        "    read_moves(n-1, ap, dp, sp)\n",
        "\n",
        "\n",
        "number = int(input('Enter the number of disks: '))\n",
        "read_moves(number,'A','B','C')\n"
      ]
    },
    {
      "cell_type": "code",
      "source": [],
      "metadata": {
        "id": "LjImGlmXNyLD"
      },
      "execution_count": null,
      "outputs": []
    }
  ]
}